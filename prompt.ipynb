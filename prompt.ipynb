{
  "cells": [
    {
      "cell_type": "markdown",
      "metadata": {
        "id": "CcUT6Fon_qRE"
      },
      "source": [
        "### Required Assignment 5.1: Will the Customer Accept the Coupon?\n",
        "\n",
        "**Context**\n",
        "\n",
        "Imagine driving through town and a coupon is delivered to your cell phone for a restaurant near where you are driving. Would you accept that coupon and take a short detour to the restaurant? Would you accept the coupon but use it on a subsequent trip? Would you ignore the coupon entirely? What if the coupon was for a bar instead of a restaurant? What about a coffee house? Would you accept a bar coupon with a minor passenger in the car? What about if it was just you and your partner in the car? Would weather impact the rate of acceptance? What about the time of day?\n",
        "\n",
        "Obviously, proximity to the business is a factor on whether the coupon is delivered to the driver or not, but what are the factors that determine whether a driver accepts the coupon once it is delivered to them? How would you determine whether a driver is likely to accept a coupon?\n",
        "\n",
        "**Overview**\n",
        "\n",
        "The goal of this project is to use what you know about visualizations and probability distributions to distinguish between customers who accepted a driving coupon versus those that did not.\n",
        "\n",
        "**Data**\n",
        "\n",
        "This data comes to us from the UCI Machine Learning repository and was collected via a survey on Amazon Mechanical Turk. The survey describes different driving scenarios including the destination, current time, weather, passenger, etc., and then ask the person whether he will accept the coupon if he is the driver. Answers that the user will drive there ‘right away’ or ‘later before the coupon expires’ are labeled as ‘Y = 1’ and answers ‘no, I do not want the coupon’ are labeled as ‘Y = 0’.  There are five different types of coupons -- less expensive restaurants (under \\$20), coffee houses, carry out & take away, bar, and more expensive restaurants (\\$20 - $50)."
      ]
    },
    {
      "cell_type": "markdown",
      "metadata": {
        "id": "1wORvMBJ_qRF"
      },
      "source": [
        "**Deliverables**\n",
        "\n",
        "Your final product should be a brief report that highlights the differences between customers who did and did not accept the coupons.  To explore the data you will utilize your knowledge of plotting, statistical summaries, and visualization using Python. You will publish your findings in a public facing github repository as your first portfolio piece.\n",
        "\n",
        "\n",
        "\n"
      ]
    },
    {
      "cell_type": "markdown",
      "metadata": {
        "id": "pG6_Ym6q_qRG"
      },
      "source": [
        "### Data Description\n",
        "Keep in mind that these values mentioned below are average values.\n",
        "\n",
        "The attributes of this data set include:\n",
        "1. User attributes\n",
        "    -  Gender: male, female\n",
        "    -  Age: below 21, 21 to 25, 26 to 30, etc.\n",
        "    -  Marital Status: single, married partner, unmarried partner, or widowed\n",
        "    -  Number of children: 0, 1, or more than 1\n",
        "    -  Education: high school, bachelors degree, associates degree, or graduate degree\n",
        "    -  Occupation: architecture & engineering, business & financial, etc.\n",
        "    -  Annual income: less than \\\\$12500, \\\\$12500 - \\\\$24999, \\\\$25000 - \\\\$37499, etc.\n",
        "    -  Number of times that he/she goes to a bar: 0, less than 1, 1 to 3, 4 to 8 or greater than 8\n",
        "    -  Number of times that he/she buys takeaway food: 0, less than 1, 1 to 3, 4 to 8 or greater\n",
        "    than 8\n",
        "    -  Number of times that he/she goes to a coffee house: 0, less than 1, 1 to 3, 4 to 8 or\n",
        "    greater than 8\n",
        "    -  Number of times that he/she eats at a restaurant with average expense less than \\\\$20 per\n",
        "    person: 0, less than 1, 1 to 3, 4 to 8 or greater than 8\n",
        "    -  Number of times that he/she goes to a bar: 0, less than 1, 1 to 3, 4 to 8 or greater than 8\n",
        "    \n",
        "\n",
        "2. Contextual attributes\n",
        "    - Driving destination: home, work, or no urgent destination\n",
        "    - Location of user, coupon and destination: we provide a map to show the geographical\n",
        "    location of the user, destination, and the venue, and we mark the distance between each\n",
        "    two places with time of driving. The user can see whether the venue is in the same\n",
        "    direction as the destination.\n",
        "    - Weather: sunny, rainy, or snowy\n",
        "    - Temperature: 30F, 55F, or 80F\n",
        "    - Time: 10AM, 2PM, or 6PM\n",
        "    - Passenger: alone, partner, kid(s), or friend(s)\n",
        "\n",
        "\n",
        "3. Coupon attributes\n",
        "    - time before it expires: 2 hours or one day"
      ]
    },
    {
      "cell_type": "code",
      "execution_count": 25,
      "metadata": {
        "id": "dzNoP3o__qRG"
      },
      "outputs": [],
      "source": [
        "import matplotlib.pyplot as plt\n",
        "import seaborn as sns\n",
        "import pandas as pd\n",
        "import numpy as np\n",
        "from pyskim import skim"
      ]
    },
    {
      "cell_type": "markdown",
      "metadata": {
        "id": "Ct8pI1uE_qRG"
      },
      "source": [
        "### Problems\n",
        "\n",
        "Use the prompts below to get started with your data analysis.  \n",
        "\n",
        "1. Read in the `coupons.csv` file.\n",
        "\n",
        "\n"
      ]
    },
    {
      "cell_type": "code",
      "execution_count": 29,
      "metadata": {
        "id": "X0vbffYg_qRH"
      },
      "outputs": [
        {
          "name": "stdout",
          "output_type": "stream",
          "text": [
            "<class 'pandas.core.frame.DataFrame'>\n",
            "RangeIndex: 12684 entries, 0 to 12683\n",
            "Data columns (total 26 columns):\n",
            " #   Column                Non-Null Count  Dtype \n",
            "---  ------                --------------  ----- \n",
            " 0   destination           12684 non-null  object\n",
            " 1   passanger             12684 non-null  object\n",
            " 2   weather               12684 non-null  object\n",
            " 3   temperature           12684 non-null  int64 \n",
            " 4   time                  12684 non-null  object\n",
            " 5   coupon                12684 non-null  object\n",
            " 6   expiration            12684 non-null  object\n",
            " 7   gender                12684 non-null  object\n",
            " 8   age                   12684 non-null  object\n",
            " 9   maritalStatus         12684 non-null  object\n",
            " 10  has_children          12684 non-null  int64 \n",
            " 11  education             12684 non-null  object\n",
            " 12  occupation            12684 non-null  object\n",
            " 13  income                12684 non-null  object\n",
            " 14  car                   108 non-null    object\n",
            " 15  Bar                   12577 non-null  object\n",
            " 16  CoffeeHouse           12467 non-null  object\n",
            " 17  CarryAway             12533 non-null  object\n",
            " 18  RestaurantLessThan20  12554 non-null  object\n",
            " 19  Restaurant20To50      12495 non-null  object\n",
            " 20  toCoupon_GEQ5min      12684 non-null  int64 \n",
            " 21  toCoupon_GEQ15min     12684 non-null  int64 \n",
            " 22  toCoupon_GEQ25min     12684 non-null  int64 \n",
            " 23  direction_same        12684 non-null  int64 \n",
            " 24  direction_opp         12684 non-null  int64 \n",
            " 25  Y                     12684 non-null  int64 \n",
            "dtypes: int64(8), object(18)\n",
            "memory usage: 2.5+ MB\n"
          ]
        },
        {
          "data": {
            "text/plain": [
              "Y\n",
              "1    7210\n",
              "0    5474\n",
              "Name: count, dtype: int64"
            ]
          },
          "execution_count": 29,
          "metadata": {},
          "output_type": "execute_result"
        }
      ],
      "source": [
        "data = pd.read_csv('data/coupons.csv')\n",
        "data.info()\n",
        "data['Y'].value_counts()"
      ]
    },
    {
      "cell_type": "code",
      "execution_count": 26,
      "metadata": {
        "id": "TXofQ_DF_qRH",
        "outputId": "2fc96a2c-1112-4b54-f24f-dbb9bc88abfb"
      },
      "outputs": [
        {
          "data": {
            "text/plain": [
              "(12684, 26)"
            ]
          },
          "metadata": {},
          "output_type": "display_data"
        },
        {
          "name": "stdout",
          "output_type": "stream",
          "text": [
            "── Data Summary ────────────────────────────────────────────────────────────────────────────────────\n",
            "type                 value\n",
            "-----------------  -------\n",
            "Number of rows       12684\n",
            "Number of columns       26\n",
            "──────────────────────────────────────────────────\n",
            "Column type frequency:\n",
            "          Count\n",
            "------  -------\n",
            "object       18\n",
            "int64         8\n",
            "\n",
            "── Variable type: number ───────────────────────────────────────────────────────────────────────────\n",
            "    name                 na_count    mean      sd    p0    p25    p50    p75    p100  hist\n",
            "--  -----------------  ----------  ------  ------  ----  -----  -----  -----  ------  ----------\n",
            " 0  temperature                 0  63.3    19.2      30     55     80     80      80  ▃▁▁▁▁▅▁▁▁▇\n",
            " 1  has_children                0   0.414   0.493     0      0      0      1       1  ▇▁▁▁▁▁▁▁▁▅\n",
            " 2  toCoupon_GEQ5min            0   1       0         1      1      1      1       1  ▁▁▁▁▁▇▁▁▁▁\n",
            " 3  toCoupon_GEQ15min           0   0.561   0.496     0      0      1      1       1  ▆▁▁▁▁▁▁▁▁▇\n",
            " 4  toCoupon_GEQ25min           0   0.119   0.324     0      0      0      0       1  ▇▁▁▁▁▁▁▁▁▁\n",
            " 5  direction_same              0   0.215   0.411     0      0      0      0       1  ▇▁▁▁▁▁▁▁▁▂\n",
            " 6  direction_opp               0   0.785   0.411     0      1      1      1       1  ▂▁▁▁▁▁▁▁▁▇\n",
            " 7  Y                           0   0.568   0.495     0      0      1      1       1  ▆▁▁▁▁▁▁▁▁▇\n",
            "\n",
            "── Variable type: object ───────────────────────────────────────────────────────────────────────────\n",
            "    name                    na_count    n_unique  top_counts\n",
            "--  --------------------  ----------  ----------  --------------------------------------------------------------------------------------------\n",
            " 0  destination                    0           3  No Urgent Place: 6283, Home: 3237, Work: 3164\n",
            " 1  passanger                      0           4  Alone: 7305, Friend(s): 3298, Partner: 1075\n",
            " 2  weather                        0           3  Sunny: 10069, Snowy: 1405, Rainy: 1210\n",
            " 3  time                           0           5  6PM: 3230, 7AM: 3164, 10AM: 2275\n",
            " 4  coupon                         0           5  Coffee House: 3996, Restaurant(<20): 2786, Carry out & Take away: 2393\n",
            " 5  expiration                     0           2  1d: 7091, 2h: 5593\n",
            " 6  gender                         0           2  Female: 6511, Male: 6173\n",
            " 7  age                            0           8  21: 2653, 26: 2559, 31: 2039\n",
            " 8  maritalStatus                  0           5  Married partner: 5100, Single: 4752, Unmarried partner: 2186\n",
            " 9  education                      0           6  Some college - no degree: 4351, Bachelors degree: 4335, Graduate degree (Masters [...]: 1852\n",
            "10  occupation                     0          25  Unemployed: 1870, Student: 1584, Computer & Mathematical: 1408\n",
            "11  income                         0           9  $25000 - $37499: 2013, $12500 - $24999: 1831, $37500 - $49999: 1805\n",
            "12  car                        12576           5  Scooter and motorcycle: 22, Mazda5: 22, do not drive: 22\n",
            "13  Bar                          107           5  never: 5197, less1: 3482, 1~3: 2473\n",
            "14  CoffeeHouse                  217           5  less1: 3385, 1~3: 3225, never: 2962\n",
            "15  CarryAway                    151           5  1~3: 4672, 4~8: 4258, less1: 1856\n",
            "16  RestaurantLessThan20         130           5  1~3: 5376, 4~8: 3580, less1: 2093\n",
            "17  Restaurant20To50             189           5  less1: 6077, 1~3: 3290, never: 2136\n",
            "\n"
          ]
        }
      ],
      "source": [
        "display(data.shape)\n",
        "skim(data)"
      ]
    },
    {
      "cell_type": "markdown",
      "metadata": {
        "id": "GcDs78ZH_qRH"
      },
      "source": [
        "2. Investigate the dataset for missing or problematic data."
      ]
    },
    {
      "cell_type": "code",
      "execution_count": 15,
      "metadata": {
        "id": "6CwL6oWj_qRH"
      },
      "outputs": [
        {
          "data": {
            "text/plain": [
              "Text(0.5, 1.0, 'Missing Values (Black = Values)')"
            ]
          },
          "execution_count": 15,
          "metadata": {},
          "output_type": "execute_result"
        },
        {
          "data": {
            "image/png": "[encoded data removed]",
            "text/plain": [
              "<Figure size 640x480 with 1 Axes>"
            ]
          },
          "metadata": {},
          "output_type": "display_data"
        }
      ],
      "source": [
        "data.isnull().sum()\n",
        "ax = sns.heatmap(data.isnull(), cmap=['black', 'red'], cbar=False)\n",
        "ax.set_title('Missing Values (Black = Values)')"
      ]
    },
    {
      "cell_type": "markdown",
      "metadata": {
        "id": "bSdVSpYB_qRH"
      },
      "source": [
        "3. Decide what to do about your missing data -- drop, replace, other..."
      ]
    },
    {
      "cell_type": "code",
      "execution_count": 23,
      "metadata": {
        "id": "tyvoAC5F_qRI"
      },
      "outputs": [
        {
          "data": {
            "text/plain": [
              "<Axes: >"
            ]
          },
          "execution_count": 23,
          "metadata": {},
          "output_type": "execute_result"
        },
        {
          "data": {
            "image/png": "[encoded data removed]",
            "text/plain": [
              "<Figure size 640x480 with 1 Axes>"
            ]
          },
          "metadata": {},
          "output_type": "display_data"
        }
      ],
      "source": [
        "# Drop the car column as it is mostly missing\n",
        "data2 = data.drop(columns=['car'])\n",
        "\n",
        "# Drop the observations where values are missing\n",
        "# as this is a small percentage of the overall observartion count\n",
        "data2 = data2.dropna()\n",
        "\n",
        "# Visualize\n",
        "sns.heatmap(data2.isnull(), cmap=['black', 'red'], cbar=False)"
      ]
    },
    {
      "cell_type": "markdown",
      "metadata": {
        "id": "YE6oJbXd_qRI"
      },
      "source": [
        "4. What proportion of the total observations chose to accept the coupon?\n",
        "\n"
      ]
    },
    {
      "cell_type": "code",
      "execution_count": 42,
      "metadata": {
        "id": "86GGqBTv_qRI"
      },
      "outputs": [
        {
          "data": {
            "text/html": [
              "<div>\n",
              "<style scoped>\n",
              "    .dataframe tbody tr th:only-of-type {\n",
              "        vertical-align: middle;\n",
              "    }\n",
              "\n",
              "    .dataframe tbody tr th {\n",
              "        vertical-align: top;\n",
              "    }\n",
              "\n",
              "    .dataframe thead th {\n",
              "        text-align: right;\n",
              "    }\n",
              "</style>\n",
              "<table border=\"1\" class=\"dataframe\">\n",
              "  <thead>\n",
              "    <tr style=\"text-align: right;\">\n",
              "      <th></th>\n",
              "      <th>Y</th>\n",
              "      <th>Percent</th>\n",
              "    </tr>\n",
              "    <tr>\n",
              "      <th>Y</th>\n",
              "      <th></th>\n",
              "      <th></th>\n",
              "    </tr>\n",
              "  </thead>\n",
              "  <tbody>\n",
              "    <tr>\n",
              "      <th>0</th>\n",
              "      <td>5202</td>\n",
              "      <td>43.066479</td>\n",
              "    </tr>\n",
              "    <tr>\n",
              "      <th>1</th>\n",
              "      <td>6877</td>\n",
              "      <td>56.933521</td>\n",
              "    </tr>\n",
              "  </tbody>\n",
              "</table>\n",
              "</div>"
            ],
            "text/plain": [
              "      Y    Percent\n",
              "Y                 \n",
              "0  5202  43.066479\n",
              "1  6877  56.933521"
            ]
          },
          "execution_count": 42,
          "metadata": {},
          "output_type": "execute_result"
        }
      ],
      "source": [
        "accept = data2.groupby('Y')[['Y']].count()\n",
        "accept['Percent'] = (accept['Y'] / accept['Y'].sum()) * 100\n",
        "accept\n"
      ]
    },
    {
      "cell_type": "markdown",
      "metadata": {
        "id": "vflz0DoE_qRI"
      },
      "source": [
        "5. Use a bar plot to visualize the `coupon` column."
      ]
    },
    {
      "cell_type": "code",
      "execution_count": 53,
      "metadata": {
        "id": "dHFh3E45_qRI"
      },
      "outputs": [
        {
          "name": "stderr",
          "output_type": "stream",
          "text": [
            "/tmp/ipykernel_53612/162826517.py:2: UserWarning: set_ticklabels() should only be used with a fixed number of ticks, i.e. after set_ticks() or using a FixedLocator.\n",
            "  ax.set_xticklabels(ax.get_xticklabels(), rotation = 15,\n"
          ]
        },
        {
          "data": {
            "text/plain": [
              "Text(0, 0.5, 'Count')"
            ]
          },
          "execution_count": 53,
          "metadata": {},
          "output_type": "execute_result"
        },
        {
          "data": {
            "image/png": "[encoded data removed]",
            "text/plain": [
              "<Figure size 640x480 with 1 Axes>"
            ]
          },
          "metadata": {},
          "output_type": "display_data"
        }
      ],
      "source": [
        "ax = sns.countplot(data2, x='coupon')\n",
        "ax.set_xticklabels(ax.get_xticklabels(), rotation = 15,\n",
        "                   horizontalalignment='right')\n",
        "ax.set_title(\"Coupon Count by Coupon Type\")\n",
        "ax.set_xlabel('Coupon Type')\n",
        "ax.set_ylabel('Count')"
      ]
    },
    {
      "cell_type": "markdown",
      "metadata": {
        "id": "Qw4lCyx2_qRI"
      },
      "source": [
        "6. Use a histogram to visualize the temperature column."
      ]
    },
    {
      "cell_type": "code",
      "execution_count": 60,
      "metadata": {
        "id": "Yg9Anv71_qRI"
      },
      "outputs": [
        {
          "data": {
            "text/plain": [
              "Text(0.5, 0, 'Temperature')"
            ]
          },
          "execution_count": 60,
          "metadata": {},
          "output_type": "execute_result"
        },
        {
          "data": {
            "image/png": "[encoded data removed]",
            "text/plain": [
              "<Figure size 640x480 with 1 Axes>"
            ]
          },
          "metadata": {},
          "output_type": "display_data"
        }
      ],
      "source": [
        "# Histogram of Temperature\n",
        "ax = sns.histplot(data2, x='temperature')\n",
        "ax.set_title('Distribution of Temperature')\n",
        "ax.set_xlabel('Temperature')"
      ]
    },
    {
      "cell_type": "markdown",
      "metadata": {
        "id": "FupfgeJk_qRJ"
      },
      "source": [
        "**Investigating the Bar Coupons**\n",
        "\n",
        "Now, we will lead you through an exploration of just the bar related coupons.  \n",
        "\n",
        "1. Create a new `DataFrame` that contains just the bar coupons.\n"
      ]
    },
    {
      "cell_type": "code",
      "execution_count": 68,
      "metadata": {
        "id": "tMBlWuGq_qRJ"
      },
      "outputs": [
        {
          "data": {
            "text/plain": [
              "(1913, 25)"
            ]
          },
          "metadata": {},
          "output_type": "display_data"
        },
        {
          "name": "stdout",
          "output_type": "stream",
          "text": [
            "<class 'pandas.core.frame.DataFrame'>\n",
            "Index: 1913 entries, 24 to 12682\n",
            "Data columns (total 25 columns):\n",
            " #   Column                Non-Null Count  Dtype \n",
            "---  ------                --------------  ----- \n",
            " 0   destination           1913 non-null   object\n",
            " 1   passanger             1913 non-null   object\n",
            " 2   weather               1913 non-null   object\n",
            " 3   temperature           1913 non-null   int64 \n",
            " 4   time                  1913 non-null   object\n",
            " 5   coupon                1913 non-null   object\n",
            " 6   expiration            1913 non-null   object\n",
            " 7   gender                1913 non-null   object\n",
            " 8   age                   1913 non-null   object\n",
            " 9   maritalStatus         1913 non-null   object\n",
            " 10  has_children          1913 non-null   int64 \n",
            " 11  education             1913 non-null   object\n",
            " 12  occupation            1913 non-null   object\n",
            " 13  income                1913 non-null   object\n",
            " 14  Bar                   1913 non-null   object\n",
            " 15  CoffeeHouse           1913 non-null   object\n",
            " 16  CarryAway             1913 non-null   object\n",
            " 17  RestaurantLessThan20  1913 non-null   object\n",
            " 18  Restaurant20To50      1913 non-null   object\n",
            " 19  toCoupon_GEQ5min      1913 non-null   int64 \n",
            " 20  toCoupon_GEQ15min     1913 non-null   int64 \n",
            " 21  toCoupon_GEQ25min     1913 non-null   int64 \n",
            " 22  direction_same        1913 non-null   int64 \n",
            " 23  direction_opp         1913 non-null   int64 \n",
            " 24  Y                     1913 non-null   int64 \n",
            "dtypes: int64(8), object(17)\n",
            "memory usage: 388.6+ KB\n"
          ]
        }
      ],
      "source": [
        "bcoupons = data2.query('coupon == \"Bar\"')\n",
        "display(bcoupons.shape)\n",
        "bcoupons.info()"
      ]
    },
    {
      "cell_type": "markdown",
      "metadata": {
        "id": "8ue6uCqf_qRJ"
      },
      "source": [
        "2. What proportion of bar coupons were accepted?\n"
      ]
    },
    {
      "cell_type": "code",
      "execution_count": 73,
      "metadata": {
        "id": "hSdte8Mi_qRK"
      },
      "outputs": [
        {
          "data": {
            "text/html": [
              "<div>\n",
              "<style scoped>\n",
              "    .dataframe tbody tr th:only-of-type {\n",
              "        vertical-align: middle;\n",
              "    }\n",
              "\n",
              "    .dataframe tbody tr th {\n",
              "        vertical-align: top;\n",
              "    }\n",
              "\n",
              "    .dataframe thead th {\n",
              "        text-align: right;\n",
              "    }\n",
              "</style>\n",
              "<table border=\"1\" class=\"dataframe\">\n",
              "  <thead>\n",
              "    <tr style=\"text-align: right;\">\n",
              "      <th></th>\n",
              "      <th>Y</th>\n",
              "      <th>Percent</th>\n",
              "    </tr>\n",
              "    <tr>\n",
              "      <th>Y</th>\n",
              "      <th></th>\n",
              "      <th></th>\n",
              "    </tr>\n",
              "  </thead>\n",
              "  <tbody>\n",
              "    <tr>\n",
              "      <th>0</th>\n",
              "      <td>1125</td>\n",
              "      <td>58.808155</td>\n",
              "    </tr>\n",
              "    <tr>\n",
              "      <th>1</th>\n",
              "      <td>788</td>\n",
              "      <td>41.191845</td>\n",
              "    </tr>\n",
              "  </tbody>\n",
              "</table>\n",
              "</div>"
            ],
            "text/plain": [
              "      Y    Percent\n",
              "Y                 \n",
              "0  1125  58.808155\n",
              "1   788  41.191845"
            ]
          },
          "execution_count": 73,
          "metadata": {},
          "output_type": "execute_result"
        }
      ],
      "source": [
        "accepted = bcoupons.groupby('Y')[['Y']].count()\n",
        "accepted['Percent'] = (accepted['Y'] / accepted['Y'].sum()) * 100\n",
        "\n",
        "accepted"
      ]
    },
    {
      "cell_type": "markdown",
      "metadata": {
        "id": "85nA_iEi_qRK"
      },
      "source": [
        "3. Compare the acceptance rate between those who went to a bar 3 or fewer times a month to those who went more.\n"
      ]
    },
    {
      "cell_type": "code",
      "execution_count": 187,
      "metadata": {},
      "outputs": [],
      "source": [
        "# Create a function to look at acceptance of coupons\n",
        "def acceptance(log_cond, bcoupons):\n",
        "    \"\"\"Creates an acceptance data frame\n",
        "\n",
        "    Args:\n",
        "        log_cond (numpy logical): numpy True False vector\n",
        "        bcoupons (pandas dataframe): data frame with coupons data\n",
        "    \"\"\"\n",
        "    bcoupons['Bar4'] = np.where(log_cond, 'group', 'others')\n",
        "\n",
        "    accepted1 = (bcoupons.groupby(['Bar4','Y'])\n",
        "                         .count()\n",
        "                         .reset_index()[['Bar4', 'Y', 'Bar']]\n",
        "                         .groupby('Bar4')\n",
        "                         .sum()\n",
        "                         .reset_index())\n",
        "\n",
        "    accepted2 = (bcoupons.groupby(['Bar4','Y'])\n",
        "                         .count()\n",
        "                         .reset_index()[['Bar4', 'Y', 'Bar']])\n",
        "\n",
        "    accepted = (pd.merge(accepted2, accepted1, on='Bar4', how='left')[['Bar4', 'Y_x', 'Bar_x', 'Bar_y']]\n",
        "                  .rename(columns={'Bar4':'Groups', 'Y_x':'Y', 'Bar_x':'Count1', 'Bar_y':'Count2'}))\n",
        "    accepted['Percent'] = (accepted['Count1'] / accepted['Count2']) * 100"
      ]
    },
    {
      "cell_type": "code",
      "execution_count": 188,
      "metadata": {
        "id": "LBOrN-XM_qRK"
      },
      "outputs": [
        {
          "name": "stderr",
          "output_type": "stream",
          "text": [
            "/tmp/ipykernel_53612/401796066.py:9: SettingWithCopyWarning: \n",
            "A value is trying to be set on a copy of a slice from a DataFrame.\n",
            "Try using .loc[row_indexer,col_indexer] = value instead\n",
            "\n",
            "See the caveats in the documentation: https://pandas.pydata.org/pandas-docs/stable/user_guide/indexing.html#returning-a-view-versus-a-copy\n",
            "  bcoupons['Bar4'] = np.where(log_cond, 'group', 'others')\n"
          ]
        }
      ],
      "source": [
        "bcoupons['Bar2'] = np.where(bcoupons['Bar'].isin(['4~8', 'gt8']), 'gt3', 'lt3')\n",
        "\n",
        "accepted1 = (bcoupons.groupby(['Bar2','Y'])\n",
        "                    .count()\n",
        "                    .reset_index()[['Bar2', 'Y', 'Bar']]\n",
        "                    .groupby('Bar2')\n",
        "                    .sum()\n",
        "                    .reset_index())\n",
        "\n",
        "accepted2 = (bcoupons.groupby(['Bar2','Y'])\n",
        "                    .count()\n",
        "                    .reset_index()[['Bar2', 'Y', 'Bar']])\n",
        "\n",
        "accepted = (pd.merge(accepted2, accepted1, on='Bar2', how='left')[['Bar2', 'Y_x', 'Bar_x', 'Bar_y']]\n",
        "              .rename(columns={'Bar2':'Freq', 'Y_x':'Y', 'Bar_x':'Count1', 'Bar_y':'Count2'}))\n",
        "accepted['Percent'] = (accepted['Count1'] / accepted['Count2']) * 100\n",
        "accepted = accepted.query('Y == 1')[['Freq', 'Y', 'Percent']]\n",
        "\n",
        "\n",
        "display(accepted)\n",
        "\n",
        "print(f'Those going to the bar 4 or more times accepted 76% of the time.')\n",
        "print(f'Those going to the bar 3 or less times accepted 37% of the time.')\n"
      ]
    },
    {
      "cell_type": "markdown",
      "metadata": {
        "id": "RBgcQwH4_qRK"
      },
      "source": [
        "4. Compare the acceptance rate between drivers who go to a bar more than once a month and are over the age of 25 to the all others.  Is there a difference?\n"
      ]
    },
    {
      "cell_type": "code",
      "execution_count": 166,
      "metadata": {
        "id": "bf28bbeX_qRK"
      },
      "outputs": [
        {
          "name": "stderr",
          "output_type": "stream",
          "text": [
            "/tmp/ipykernel_53612/2208043678.py:1: SettingWithCopyWarning: \n",
            "A value is trying to be set on a copy of a slice from a DataFrame.\n",
            "Try using .loc[row_indexer,col_indexer] = value instead\n",
            "\n",
            "See the caveats in the documentation: https://pandas.pydata.org/pandas-docs/stable/user_guide/indexing.html#returning-a-view-versus-a-copy\n",
            "  bcoupons['Bar3'] = np.where(bcoupons['Bar'].isin(['1~3','4~8', 'gt8'])\n"
          ]
        },
        {
          "data": {
            "text/html": [
              "<div>\n",
              "<style scoped>\n",
              "    .dataframe tbody tr th:only-of-type {\n",
              "        vertical-align: middle;\n",
              "    }\n",
              "\n",
              "    .dataframe tbody tr th {\n",
              "        vertical-align: top;\n",
              "    }\n",
              "\n",
              "    .dataframe thead th {\n",
              "        text-align: right;\n",
              "    }\n",
              "</style>\n",
              "<table border=\"1\" class=\"dataframe\">\n",
              "  <thead>\n",
              "    <tr style=\"text-align: right;\">\n",
              "      <th></th>\n",
              "      <th>Groups</th>\n",
              "      <th>Y</th>\n",
              "      <th>Percent</th>\n",
              "    </tr>\n",
              "  </thead>\n",
              "  <tbody>\n",
              "    <tr>\n",
              "      <th>1</th>\n",
              "      <td>gt25</td>\n",
              "      <td>1</td>\n",
              "      <td>68.982630</td>\n",
              "    </tr>\n",
              "    <tr>\n",
              "      <th>3</th>\n",
              "      <td>lt25</td>\n",
              "      <td>1</td>\n",
              "      <td>33.774834</td>\n",
              "    </tr>\n",
              "  </tbody>\n",
              "</table>\n",
              "</div>"
            ],
            "text/plain": [
              "  Groups  Y    Percent\n",
              "1   gt25  1  68.982630\n",
              "3   lt25  1  33.774834"
            ]
          },
          "metadata": {},
          "output_type": "display_data"
        },
        {
          "name": "stdout",
          "output_type": "stream",
          "text": [
            "Those age 25 going at least once a month accepted 76% of the time.\n",
            "All others accepted 37% of the time.\n"
          ]
        }
      ],
      "source": [
        "bcoupons['Bar3'] = np.where(bcoupons['Bar'].isin(['1~3','4~8', 'gt8'])\n",
        "                            & bcoupons['age'].isin(['26', '31', '36', '41', '46', '50plus']),'gt25', 'lt25')\n",
        "\n",
        "accepted1 = (bcoupons.groupby(['Bar3','Y'])\n",
        "                     .count()\n",
        "                     .reset_index()[['Bar3', 'Y', 'Bar']]\n",
        "                     .groupby('Bar3')\n",
        "                     .sum()\n",
        "                     .reset_index())\n",
        "\n",
        "accepted2 = (bcoupons.groupby(['Bar3','Y'])\n",
        "                     .count()\n",
        "                     .reset_index()[['Bar3', 'Y', 'Bar']])\n",
        "\n",
        "accepted = (pd.merge(accepted2, accepted1, on='Bar3', how='left')[['Bar3', 'Y_x', 'Bar_x', 'Bar_y']]\n",
        "              .rename(columns={'Bar3':'Groups', 'Y_x':'Y', 'Bar_x':'Count1', 'Bar_y':'Count2'}))\n",
        "accepted['Percent'] = (accepted['Count1'] / accepted['Count2']) * 100\n",
        "accepted = accepted.query('Y == 1')[['Groups', 'Y', 'Percent']]\n",
        "\n",
        "display(accepted)\n",
        "\n",
        "print(f'Those age 25 going at least once a month accepted 76% of the time.')\n",
        "print(f'All others accepted 37% of the time.')"
      ]
    },
    {
      "cell_type": "markdown",
      "metadata": {
        "id": "S4RKT4PJ_qRK"
      },
      "source": [
        "5. Use the same process to compare the acceptance rate between drivers who go to bars more than once a month and had passengers that were not a kid and had occupations other than farming, fishing, or forestry.\n"
      ]
    },
    {
      "cell_type": "code",
      "execution_count": 185,
      "metadata": {
        "id": "sENaI2Tg_qRK"
      },
      "outputs": [
        {
          "name": "stderr",
          "output_type": "stream",
          "text": [
            "/tmp/ipykernel_53612/722602760.py:13: SettingWithCopyWarning: \n",
            "A value is trying to be set on a copy of a slice from a DataFrame.\n",
            "Try using .loc[row_indexer,col_indexer] = value instead\n",
            "\n",
            "See the caveats in the documentation: https://pandas.pydata.org/pandas-docs/stable/user_guide/indexing.html#returning-a-view-versus-a-copy\n",
            "  bcoupons['Bar4'] = np.where(log_cond, 'group', 'others')\n"
          ]
        },
        {
          "data": {
            "text/html": [
              "<div>\n",
              "<style scoped>\n",
              "    .dataframe tbody tr th:only-of-type {\n",
              "        vertical-align: middle;\n",
              "    }\n",
              "\n",
              "    .dataframe tbody tr th {\n",
              "        vertical-align: top;\n",
              "    }\n",
              "\n",
              "    .dataframe thead th {\n",
              "        text-align: right;\n",
              "    }\n",
              "</style>\n",
              "<table border=\"1\" class=\"dataframe\">\n",
              "  <thead>\n",
              "    <tr style=\"text-align: right;\">\n",
              "      <th></th>\n",
              "      <th>Groups</th>\n",
              "      <th>Y</th>\n",
              "      <th>Count1</th>\n",
              "      <th>Count2</th>\n",
              "      <th>Percent</th>\n",
              "    </tr>\n",
              "  </thead>\n",
              "  <tbody>\n",
              "    <tr>\n",
              "      <th>0</th>\n",
              "      <td>group</td>\n",
              "      <td>0</td>\n",
              "      <td>54</td>\n",
              "      <td>189</td>\n",
              "      <td>28.571429</td>\n",
              "    </tr>\n",
              "    <tr>\n",
              "      <th>1</th>\n",
              "      <td>group</td>\n",
              "      <td>1</td>\n",
              "      <td>135</td>\n",
              "      <td>189</td>\n",
              "      <td>71.428571</td>\n",
              "    </tr>\n",
              "    <tr>\n",
              "      <th>2</th>\n",
              "      <td>others</td>\n",
              "      <td>0</td>\n",
              "      <td>1071</td>\n",
              "      <td>1724</td>\n",
              "      <td>62.122970</td>\n",
              "    </tr>\n",
              "    <tr>\n",
              "      <th>3</th>\n",
              "      <td>others</td>\n",
              "      <td>1</td>\n",
              "      <td>653</td>\n",
              "      <td>1724</td>\n",
              "      <td>37.877030</td>\n",
              "    </tr>\n",
              "  </tbody>\n",
              "</table>\n",
              "</div>"
            ],
            "text/plain": [
              "   Groups  Y  Count1  Count2    Percent\n",
              "0   group  0      54     189  28.571429\n",
              "1   group  1     135     189  71.428571\n",
              "2  others  0    1071    1724  62.122970\n",
              "3  others  1     653    1724  37.877030"
            ]
          },
          "execution_count": 185,
          "metadata": {},
          "output_type": "execute_result"
        }
      ],
      "source": [
        "# Define interest groups\n",
        "cat_bar = ['1~3','4~8', 'gt8']\n",
        "cat_passanger = ['Friend(s)', 'Partner']\n",
        "cat_occupation = ['Farming Fishing and Forestry']\n",
        "\n",
        "# Create logical\n",
        "log_cond = (bcoupons['Bar'].isin(cat_bar)\n",
        "            & bcoupons['passanger'].isin(cat_passanger)\n",
        "            & np.logical_not(bcoupons['occupation'].isin(cat_occupation)))\n",
        "\n",
        "\n",
        "\n",
        "    return accepted\n",
        "\n",
        "acceptance(log_cond, bcoupons)\n"
      ]
    },
    {
      "cell_type": "markdown",
      "metadata": {
        "id": "n2LIUTil_qRK"
      },
      "source": [
        "6. Compare the acceptance rates between those drivers who:\n",
        "\n",
        "- go to bars more than once a month, had passengers that were not a kid, and were not widowed *OR*\n",
        "- go to bars more than once a month and are under the age of 30 *OR*\n",
        "- go to cheap restaurants more than 4 times a month and income is less than 50K.\n",
        "\n"
      ]
    },
    {
      "cell_type": "code",
      "execution_count": 186,
      "metadata": {
        "id": "aK_wEzx7_qRK"
      },
      "outputs": [
        {
          "name": "stderr",
          "output_type": "stream",
          "text": [
            "/tmp/ipykernel_53612/722602760.py:13: SettingWithCopyWarning: \n",
            "A value is trying to be set on a copy of a slice from a DataFrame.\n",
            "Try using .loc[row_indexer,col_indexer] = value instead\n",
            "\n",
            "See the caveats in the documentation: https://pandas.pydata.org/pandas-docs/stable/user_guide/indexing.html#returning-a-view-versus-a-copy\n",
            "  bcoupons['Bar4'] = np.where(log_cond, 'group', 'others')\n"
          ]
        },
        {
          "data": {
            "text/html": [
              "<div>\n",
              "<style scoped>\n",
              "    .dataframe tbody tr th:only-of-type {\n",
              "        vertical-align: middle;\n",
              "    }\n",
              "\n",
              "    .dataframe tbody tr th {\n",
              "        vertical-align: top;\n",
              "    }\n",
              "\n",
              "    .dataframe thead th {\n",
              "        text-align: right;\n",
              "    }\n",
              "</style>\n",
              "<table border=\"1\" class=\"dataframe\">\n",
              "  <thead>\n",
              "    <tr style=\"text-align: right;\">\n",
              "      <th></th>\n",
              "      <th>Groups</th>\n",
              "      <th>Y</th>\n",
              "      <th>Count1</th>\n",
              "      <th>Count2</th>\n",
              "      <th>Percent</th>\n",
              "    </tr>\n",
              "  </thead>\n",
              "  <tbody>\n",
              "    <tr>\n",
              "      <th>0</th>\n",
              "      <td>group</td>\n",
              "      <td>0</td>\n",
              "      <td>54</td>\n",
              "      <td>189</td>\n",
              "      <td>28.571429</td>\n",
              "    </tr>\n",
              "    <tr>\n",
              "      <th>1</th>\n",
              "      <td>group</td>\n",
              "      <td>1</td>\n",
              "      <td>135</td>\n",
              "      <td>189</td>\n",
              "      <td>71.428571</td>\n",
              "    </tr>\n",
              "    <tr>\n",
              "      <th>2</th>\n",
              "      <td>others</td>\n",
              "      <td>0</td>\n",
              "      <td>1071</td>\n",
              "      <td>1724</td>\n",
              "      <td>62.122970</td>\n",
              "    </tr>\n",
              "    <tr>\n",
              "      <th>3</th>\n",
              "      <td>others</td>\n",
              "      <td>1</td>\n",
              "      <td>653</td>\n",
              "      <td>1724</td>\n",
              "      <td>37.877030</td>\n",
              "    </tr>\n",
              "  </tbody>\n",
              "</table>\n",
              "</div>"
            ],
            "text/plain": [
              "   Groups  Y  Count1  Count2    Percent\n",
              "0   group  0      54     189  28.571429\n",
              "1   group  1     135     189  71.428571\n",
              "2  others  0    1071    1724  62.122970\n",
              "3  others  1     653    1724  37.877030"
            ]
          },
          "metadata": {},
          "output_type": "display_data"
        },
        {
          "name": "stderr",
          "output_type": "stream",
          "text": [
            "/tmp/ipykernel_53612/722602760.py:13: SettingWithCopyWarning: \n",
            "A value is trying to be set on a copy of a slice from a DataFrame.\n",
            "Try using .loc[row_indexer,col_indexer] = value instead\n",
            "\n",
            "See the caveats in the documentation: https://pandas.pydata.org/pandas-docs/stable/user_guide/indexing.html#returning-a-view-versus-a-copy\n",
            "  bcoupons['Bar4'] = np.where(log_cond, 'group', 'others')\n"
          ]
        },
        {
          "data": {
            "text/html": [
              "<div>\n",
              "<style scoped>\n",
              "    .dataframe tbody tr th:only-of-type {\n",
              "        vertical-align: middle;\n",
              "    }\n",
              "\n",
              "    .dataframe tbody tr th {\n",
              "        vertical-align: top;\n",
              "    }\n",
              "\n",
              "    .dataframe thead th {\n",
              "        text-align: right;\n",
              "    }\n",
              "</style>\n",
              "<table border=\"1\" class=\"dataframe\">\n",
              "  <thead>\n",
              "    <tr style=\"text-align: right;\">\n",
              "      <th></th>\n",
              "      <th>Groups</th>\n",
              "      <th>Y</th>\n",
              "      <th>Count1</th>\n",
              "      <th>Count2</th>\n",
              "      <th>Percent</th>\n",
              "    </tr>\n",
              "  </thead>\n",
              "  <tbody>\n",
              "    <tr>\n",
              "      <th>0</th>\n",
              "      <td>group</td>\n",
              "      <td>0</td>\n",
              "      <td>92</td>\n",
              "      <td>328</td>\n",
              "      <td>28.048780</td>\n",
              "    </tr>\n",
              "    <tr>\n",
              "      <th>1</th>\n",
              "      <td>group</td>\n",
              "      <td>1</td>\n",
              "      <td>236</td>\n",
              "      <td>328</td>\n",
              "      <td>71.951220</td>\n",
              "    </tr>\n",
              "    <tr>\n",
              "      <th>2</th>\n",
              "      <td>others</td>\n",
              "      <td>0</td>\n",
              "      <td>1033</td>\n",
              "      <td>1585</td>\n",
              "      <td>65.173502</td>\n",
              "    </tr>\n",
              "    <tr>\n",
              "      <th>3</th>\n",
              "      <td>others</td>\n",
              "      <td>1</td>\n",
              "      <td>552</td>\n",
              "      <td>1585</td>\n",
              "      <td>34.826498</td>\n",
              "    </tr>\n",
              "  </tbody>\n",
              "</table>\n",
              "</div>"
            ],
            "text/plain": [
              "   Groups  Y  Count1  Count2    Percent\n",
              "0   group  0      92     328  28.048780\n",
              "1   group  1     236     328  71.951220\n",
              "2  others  0    1033    1585  65.173502\n",
              "3  others  1     552    1585  34.826498"
            ]
          },
          "metadata": {},
          "output_type": "display_data"
        },
        {
          "name": "stderr",
          "output_type": "stream",
          "text": [
            "/tmp/ipykernel_53612/722602760.py:13: SettingWithCopyWarning: \n",
            "A value is trying to be set on a copy of a slice from a DataFrame.\n",
            "Try using .loc[row_indexer,col_indexer] = value instead\n",
            "\n",
            "See the caveats in the documentation: https://pandas.pydata.org/pandas-docs/stable/user_guide/indexing.html#returning-a-view-versus-a-copy\n",
            "  bcoupons['Bar4'] = np.where(log_cond, 'group', 'others')\n"
          ]
        },
        {
          "data": {
            "text/html": [
              "<div>\n",
              "<style scoped>\n",
              "    .dataframe tbody tr th:only-of-type {\n",
              "        vertical-align: middle;\n",
              "    }\n",
              "\n",
              "    .dataframe tbody tr th {\n",
              "        vertical-align: top;\n",
              "    }\n",
              "\n",
              "    .dataframe thead th {\n",
              "        text-align: right;\n",
              "    }\n",
              "</style>\n",
              "<table border=\"1\" class=\"dataframe\">\n",
              "  <thead>\n",
              "    <tr style=\"text-align: right;\">\n",
              "      <th></th>\n",
              "      <th>Groups</th>\n",
              "      <th>Y</th>\n",
              "      <th>Count1</th>\n",
              "      <th>Count2</th>\n",
              "      <th>Percent</th>\n",
              "    </tr>\n",
              "  </thead>\n",
              "  <tbody>\n",
              "    <tr>\n",
              "      <th>0</th>\n",
              "      <td>group</td>\n",
              "      <td>0</td>\n",
              "      <td>181</td>\n",
              "      <td>333</td>\n",
              "      <td>54.354354</td>\n",
              "    </tr>\n",
              "    <tr>\n",
              "      <th>1</th>\n",
              "      <td>group</td>\n",
              "      <td>1</td>\n",
              "      <td>152</td>\n",
              "      <td>333</td>\n",
              "      <td>45.645646</td>\n",
              "    </tr>\n",
              "    <tr>\n",
              "      <th>2</th>\n",
              "      <td>others</td>\n",
              "      <td>0</td>\n",
              "      <td>944</td>\n",
              "      <td>1580</td>\n",
              "      <td>59.746835</td>\n",
              "    </tr>\n",
              "    <tr>\n",
              "      <th>3</th>\n",
              "      <td>others</td>\n",
              "      <td>1</td>\n",
              "      <td>636</td>\n",
              "      <td>1580</td>\n",
              "      <td>40.253165</td>\n",
              "    </tr>\n",
              "  </tbody>\n",
              "</table>\n",
              "</div>"
            ],
            "text/plain": [
              "   Groups  Y  Count1  Count2    Percent\n",
              "0   group  0     181     333  54.354354\n",
              "1   group  1     152     333  45.645646\n",
              "2  others  0     944    1580  59.746835\n",
              "3  others  1     636    1580  40.253165"
            ]
          },
          "metadata": {},
          "output_type": "display_data"
        }
      ],
      "source": [
        "# Define logical cat 1\n",
        "cat_bar = ['1~3','4~8', 'gt8']\n",
        "cat_passanger = ['Friend(s)', 'Partner']\n",
        "cat_marital_status = ['widowed']\n",
        "cat_age = ['21', '26', 'below21']\n",
        "cat_restaurant = ['4~8', 'gt8']\n",
        "cat_income = ['Less than $12500', '$12500 - $24999', '$25000 - $37499',\n",
        "              '$37500 - $49999']\n",
        "\n",
        "\n",
        "# Create logical\n",
        "log_cond1 = (bcoupons['Bar'].isin(cat_bar)\n",
        "            & bcoupons['passanger'].isin(cat_passanger)\n",
        "            & np.logical_not(bcoupons['maritalStatus'].isin(cat_marital_status)))\n",
        "\n",
        "# Create logical #2\n",
        "log_cond2 = (bcoupons['Bar'].isin(cat_bar)\n",
        "             & bcoupons['age'].isin(cat_age))\n",
        "\n",
        "# Create logical # 3\n",
        "log_cond3 = (bcoupons['RestaurantLessThan20'].isin(cat_restaurant)\n",
        "             & bcoupons['income'].isin(cat_income))\n",
        "\n",
        "\n",
        "display(acceptance(log_cond1, bcoupons))\n",
        "display(acceptance(log_cond2, bcoupons))\n",
        "display(acceptance(log_cond3, bcoupons))\n",
        "\n"
      ]
    },
    {
      "cell_type": "markdown",
      "metadata": {
        "id": "v3fL3QkO_qRK"
      },
      "source": [
        "7.  Based on these observations, what do you hypothesize about drivers who accepted the bar coupons?"
      ]
    },
    {
      "cell_type": "code",
      "execution_count": null,
      "metadata": {
        "id": "Y48naDFh_qRL"
      },
      "outputs": [],
      "source": []
    },
    {
      "cell_type": "markdown",
      "metadata": {
        "id": "r4Hu1zOb_qRL"
      },
      "source": [
        "### Independent Investigation\n",
        "\n",
        "Using the bar coupon example as motivation, you are to explore one of the other coupon groups and try to determine the characteristics of passengers who accept the coupons.  "
      ]
    },
    {
      "cell_type": "code",
      "execution_count": null,
      "metadata": {
        "id": "0c71cQhu_qRL"
      },
      "outputs": [],
      "source": []
    },
    {
      "cell_type": "code",
      "execution_count": null,
      "metadata": {
        "id": "QEsBkvIN_qRL"
      },
      "outputs": [],
      "source": []
    },
    {
      "cell_type": "code",
      "execution_count": null,
      "metadata": {
        "id": "fTC2WGE3_qRL"
      },
      "outputs": [],
      "source": []
    },
    {
      "cell_type": "code",
      "execution_count": null,
      "metadata": {
        "id": "RrqUWn7d_qRL"
      },
      "outputs": [],
      "source": []
    },
    {
      "cell_type": "code",
      "execution_count": null,
      "metadata": {
        "id": "_oykf8YP_qRL"
      },
      "outputs": [],
      "source": []
    }
  ],
  "metadata": {
    "colab": {
      "provenance": []
    },
    "kernelspec": {
      "display_name": "Python 3 (ipykernel)",
      "language": "python",
      "name": "python3"
    },
    "language_info": {
      "codemirror_mode": {
        "name": "ipython",
        "version": 3
      },
      "file_extension": ".py",
      "mimetype": "text/x-python",
      "name": "python",
      "nbconvert_exporter": "python",
      "pygments_lexer": "ipython3",
      "version": "3.11.10"
    }
  },
  "nbformat": 4,
  "nbformat_minor": 0
}
